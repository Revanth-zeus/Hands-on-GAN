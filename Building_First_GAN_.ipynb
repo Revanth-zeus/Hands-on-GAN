{
  "nbformat": 4,
  "nbformat_minor": 0,
  "metadata": {
    "colab": {
      "provenance": []
    },
    "kernelspec": {
      "name": "python3",
      "display_name": "Python 3"
    },
    "language_info": {
      "name": "python"
    }
  },
  "cells": [
    {
      "cell_type": "code",
      "execution_count": 1,
      "metadata": {
        "id": "2B6OPLWrWm-t"
      },
      "outputs": [],
      "source": [
        "import torch\n",
        "from torch import nn\n",
        "from tqdm.auto import tqdm\n",
        "from torchvision import transforms\n",
        "from torchvision.datasets import MNIST\n",
        "from torchvision.utils import make_grid\n",
        "from torch.utils.data import DataLoader\n",
        "import matplotlib.pyplot as plt\n",
        "torch.manual_seed(0)\n",
        "def show_tensor_images(image_tensor, num_images=25, size=(1, 28, 28)):\n",
        "    image_unflat = image_tensor.detach().cpu().view(-1, *size)\n",
        "    image_grid = make_grid(image_unflat[:num_images], nrow=5)\n",
        "    plt.imshow(image_grid.permute(1, 2, 0).squeeze())\n",
        "    plt.show()"
      ]
    },
    {
      "cell_type": "markdown",
      "source": [
        "The \"sequential \" helps to form the building blocks inside the generator_one class"
      ],
      "metadata": {
        "id": "IXvCWNgJWuIG"
      }
    },
    {
      "cell_type": "code",
      "source": [
        "def generator_one(input_dim, output_dim):\n",
        "    return nn.Sequential(\n",
        "        nn.Linear(input_dim, output_dim),\n",
        "        nn.BatchNorm1d(output_dim),\n",
        "        nn.ReLU(inplace=True)\n",
        "    )\n"
      ],
      "metadata": {
        "id": "m9gGWTmQWrsb"
      },
      "execution_count": 2,
      "outputs": []
    },
    {
      "cell_type": "markdown",
      "source": [
        "\"ASSERT\" is used to define if the situation is true or false\n"
      ],
      "metadata": {
        "id": "-i4Rp7mwW2BF"
      }
    },
    {
      "cell_type": "code",
      "source": [
        "def generator_one_test(input_features,output_features,num_test=3):\n",
        "  test_block=generator_one(input_features,output_features)\n",
        "  assert len(test_block) == 3\n",
        "  assert type(test_block[0]) ==nn.Linear\n",
        "  assert type(test_block[1]) ==nn.BatchNorm1d\n",
        "  assert type(test_block[2]) ==nn.ReLU\n",
        "\n",
        "  test_input=torch.randn(num_test,input_features)\n",
        "  test_output=test_block(test_input)\n",
        "  assert test_output.shape==(num_test,output_features)\n",
        "  return test_output\n",
        "\n"
      ],
      "metadata": {
        "id": "6coWaGhGW1C6"
      },
      "execution_count": 3,
      "outputs": []
    },
    {
      "cell_type": "code",
      "source": [
        "print(generator_one_test(512,1024))"
      ],
      "metadata": {
        "colab": {
          "base_uri": "https://localhost:8080/"
        },
        "id": "eTekW-O6W5oY",
        "outputId": "94aa86ac-1bd7-4edf-84f2-477cfa46cfea"
      },
      "execution_count": 4,
      "outputs": [
        {
          "output_type": "stream",
          "name": "stdout",
          "text": [
            "tensor([[0.0000, 0.0000, 0.0000,  ..., 1.4062, 1.2586, 0.0000],\n",
            "        [0.6393, 1.2542, 1.2928,  ..., 0.0000, 0.0000, 1.3822],\n",
            "        [0.7728, 0.0000, 0.0000,  ..., 0.0000, 0.0000, 0.0000]],\n",
            "       grad_fn=<ReluBackward0>)\n"
          ]
        }
      ]
    },
    {
      "cell_type": "code",
      "source": [
        "class Generator(nn.Module):\n",
        "    def __init__(self, z_samples_noise_vector=10, img_dimension=784, hidden_layer_dimension=128):\n",
        "        super(Generator, self).__init__()\n",
        "        self.gen = nn.Sequential(\n",
        "            generator_one(z_samples_noise_vector, hidden_layer_dimension),\n",
        "            generator_one(hidden_layer_dimension, hidden_layer_dimension * 2),\n",
        "            generator_one(hidden_layer_dimension * 2, hidden_layer_dimension * 4),\n",
        "            generator_one(hidden_layer_dimension * 4, hidden_layer_dimension * 8),\n",
        "            nn.Linear(hidden_layer_dimension * 8, img_dimension),\n",
        "            nn.Sigmoid()\n",
        "        )\n",
        "\n",
        "    def forward(self, noise):\n",
        "      return self.gen(noise)\n",
        "\n",
        "    def get_gen(self):\n",
        "        return self.gen"
      ],
      "metadata": {
        "id": "MkWS5xZsW7fp"
      },
      "execution_count": 5,
      "outputs": []
    },
    {
      "cell_type": "code",
      "source": [
        "# Example usage\n",
        "z_samples = torch.randn(5, 10)  # Random noise vector of 5 samples, each with 10 dimensions\n",
        "generator = Generator(z_samples_noise_vector=10, img_dimension=784)\n",
        "generated_images = generator(z_samples)\n",
        "print(generated_images.shape)  # Should print: torch.Size([5, 784])\n"
      ],
      "metadata": {
        "colab": {
          "base_uri": "https://localhost:8080/"
        },
        "id": "uwJB_saxW9HU",
        "outputId": "77a29e0a-3c05-4c17-bcf0-7c36931be157"
      },
      "execution_count": 6,
      "outputs": [
        {
          "output_type": "stream",
          "name": "stdout",
          "text": [
            "torch.Size([5, 784])\n"
          ]
        }
      ]
    },
    {
      "cell_type": "code",
      "source": [
        "def test_generator(z_dim, im_dim, hidden_dim, num_test=10000):\n",
        "    gen = Generator(z_dim, im_dim, hidden_dim).get_gen()\n",
        "    assert len(gen) == 6, \"Generator should have exactly 6 layers\"\n",
        "    test_input = torch.randn(num_test, z_dim)\n",
        "    test_output = gen(test_input)\n",
        "    assert tuple(test_output.shape) == (num_test, im_dim), f\"Expected output shape ({num_test}, {im_dim}), but got {test_output.shape}\"\n",
        "    assert test_output.max() <= 1, \"Output values should be in the range [0, 1] after sigmoid activation\"\n",
        "    assert test_output.min() >= 0, \"Output values should be in the range [0, 1] after sigmoid activation\"\n",
        "    assert 0.05 < test_output.std() < 0.15, f\"Expected std between 0.05 and 0.15, but got {test_output.std()}\"\n",
        "\n",
        "# Test cases with realistic values\n",
        "test_generator(10, 784, 128)  # Standard z_dim, im_dim, hidden_dim for MNIST-style generator\n",
        "test_generator(100, 784, 128)  # Test with a larger noise vector (z_dim)\n",
        "test_generator(10, 784, 256)  # Test with larger hidden dimension\n",
        "\n",
        "print(\"Success!\")\n"
      ],
      "metadata": {
        "colab": {
          "base_uri": "https://localhost:8080/"
        },
        "id": "Uf-37vBVW-zb",
        "outputId": "9f62e5f7-c7a8-4d30-e2cc-b51bc9bfc2b1"
      },
      "execution_count": 7,
      "outputs": [
        {
          "output_type": "stream",
          "name": "stdout",
          "text": [
            "Success!\n"
          ]
        }
      ]
    },
    {
      "cell_type": "code",
      "source": [
        "def test_own_generator(z_samples_noise_vector, img_dimension, hidden_layer_dimension,num_test=3):\n",
        "  gen_test=Generator(z_samples_noise_vector,img_dimension,hidden_layer_dimension)\n",
        "  assert len(gen_test.get_gen())==6\n",
        "  test_own_input=torch.randn(num_test,z_samples_noise_vector)\n",
        "  test_own_output=gen_test.get_gen()(test_own_input)\n",
        "  assert test_own_output.shape==(num_test,img_dimension)\n",
        "  print(\"excellent \")\n",
        "\n",
        "test_own_generator(15,17,128)"
      ],
      "metadata": {
        "colab": {
          "base_uri": "https://localhost:8080/"
        },
        "id": "m-hmF690XAz0",
        "outputId": "e9a69c3a-5370-4fbf-f7b9-4b7f4ca18ad7"
      },
      "execution_count": 8,
      "outputs": [
        {
          "output_type": "stream",
          "name": "stdout",
          "text": [
            "excellent \n"
          ]
        }
      ]
    },
    {
      "cell_type": "markdown",
      "source": [
        "**GENERATING NOISE**"
      ],
      "metadata": {
        "id": "rbKpqG8wXFao"
      }
    },
    {
      "cell_type": "code",
      "source": [
        "def noise_generation(num_samples,z_samples_noise_vector,device='cpu'):\n",
        "  return torch.randn(num_samples,z_samples_noise_vector,device=device)\n",
        "  print(\"excellent\")\n",
        "\n",
        "noise_generation(2,5)"
      ],
      "metadata": {
        "colab": {
          "base_uri": "https://localhost:8080/"
        },
        "id": "Kjz7iOGbXCri",
        "outputId": "198c445b-cd57-4137-a092-3bfb51d5a216"
      },
      "execution_count": 9,
      "outputs": [
        {
          "output_type": "execute_result",
          "data": {
            "text/plain": [
              "tensor([[-0.0029, -0.6079, -0.4270, -0.5158,  0.2514],\n",
              "        [ 0.2405,  2.0934, -0.0604,  0.1784, -0.1186]])"
            ]
          },
          "metadata": {},
          "execution_count": 9
        }
      ]
    },
    {
      "cell_type": "code",
      "source": [
        "def test_noise_generation(num_samples, z_samples_noise_vector):\n",
        "    test_two = noise_generation(num_samples, z_samples_noise_vector)\n",
        "    assert test_two.shape == (num_samples, z_samples_noise_vector), f\"Expected shape ({num_samples}, {z_samples_noise_vector}), but got {test_two.shape}\"\n",
        "    print(\"success\")\n",
        "test_noise_generation(2, 3)\n"
      ],
      "metadata": {
        "colab": {
          "base_uri": "https://localhost:8080/"
        },
        "id": "oSusTJwQXHfF",
        "outputId": "22c0a1ec-7831-4a85-8a4f-a3d1bd87c31b"
      },
      "execution_count": 10,
      "outputs": [
        {
          "output_type": "stream",
          "name": "stdout",
          "text": [
            "success\n"
          ]
        }
      ]
    },
    {
      "cell_type": "markdown",
      "source": [
        "**BUILDING DISCRIMINATOR**"
      ],
      "metadata": {
        "id": "At_wQjHBXOvg"
      }
    },
    {
      "cell_type": "code",
      "source": [
        "def get_discriminator_block(input_dim, output_dim):\n",
        "    return nn.Sequential(\n",
        "        nn.Linear(input_dim, output_dim),\n",
        "        nn.LeakyReLU(negative_slope=0.2, inplace=True)\n",
        "    )\n"
      ],
      "metadata": {
        "id": "7yD-6rSiXI-q"
      },
      "execution_count": 11,
      "outputs": []
    },
    {
      "cell_type": "code",
      "source": [
        "# Verify the discriminator block function\n",
        "def test_disc_block(in_features, out_features, num_test=10000):\n",
        "    block = get_discriminator_block(in_features, out_features)\n",
        "    assert len(block) == 2\n",
        "    test_input = torch.randn(num_test, in_features)\n",
        "    test_output = block(test_input)\n",
        "    assert tuple(test_output.shape) == (num_test, out_features)\n",
        "    assert -test_output.min() / test_output.max() > 0.1\n",
        "    assert -test_output.min() / test_output.max() < 0.3\n",
        "    assert test_output.std() > 0.3\n",
        "    assert test_output.std() < 0.5\n",
        "\n",
        "test_disc_block(25, 12)\n",
        "test_disc_block(15, 28)\n",
        "print(\"Success!\")"
      ],
      "metadata": {
        "colab": {
          "base_uri": "https://localhost:8080/"
        },
        "id": "3pAShdbQXRLg",
        "outputId": "e5c3539f-a114-4f9a-8399-2a22ee9ce6f4"
      },
      "execution_count": 12,
      "outputs": [
        {
          "output_type": "stream",
          "name": "stdout",
          "text": [
            "Success!\n"
          ]
        }
      ]
    },
    {
      "cell_type": "code",
      "source": [
        "class Discriminator(nn.Module):\n",
        "    def __init__(self, im_dim=784, hidden_dim=128):\n",
        "        super(Discriminator, self).__init__()\n",
        "        self.disc = nn.Sequential(\n",
        "            get_discriminator_block(im_dim, hidden_dim * 4),\n",
        "            get_discriminator_block(hidden_dim * 4, hidden_dim * 2),\n",
        "            get_discriminator_block(hidden_dim * 2, hidden_dim),\n",
        "            nn.Linear(hidden_dim, 1)\n",
        "        )\n",
        "\n",
        "    def forward(self, image):\n",
        "        return self.disc(image)\n",
        "\n",
        "    def get_disc(self):\n",
        "        return self.disc\n"
      ],
      "metadata": {
        "id": "XHAYxo2HXS1Q"
      },
      "execution_count": 13,
      "outputs": []
    },
    {
      "cell_type": "code",
      "source": [
        "# Verify the discriminator class\n",
        "def test_discriminator(z_dim, hidden_dim, num_test=100):\n",
        "  disc = Discriminator(z_dim, hidden_dim).get_disc()\n",
        "  assert len(disc) == 4\n",
        "  test_input = torch.randn(num_test, z_dim)\n",
        "  test_output = disc(test_input)\n",
        "  assert tuple(test_output.shape) == (num_test, 1)\n",
        "  assert not isinstance(disc[-1], nn.Sequential)\n",
        "\n",
        "test_discriminator(5, 10)\n",
        "test_discriminator(20, 8)\n",
        "print(\"Success!\")"
      ],
      "metadata": {
        "colab": {
          "base_uri": "https://localhost:8080/"
        },
        "id": "kmf0tZKnXU1a",
        "outputId": "80c71223-1812-46d5-d3f5-16573615825c"
      },
      "execution_count": 14,
      "outputs": [
        {
          "output_type": "stream",
          "name": "stdout",
          "text": [
            "Success!\n"
          ]
        }
      ]
    },
    {
      "cell_type": "markdown",
      "source": [
        "**LOADING DATASET**"
      ],
      "metadata": {
        "id": "Az1w_JIpXZB9"
      }
    },
    {
      "cell_type": "markdown",
      "source": [
        "BCEwithLogitsloss : turns the output of discriminator(logits) into the range between 0 and 1 and gets the difference between the predicted label and the true label"
      ],
      "metadata": {
        "id": "TUHr8OE9XcoA"
      }
    },
    {
      "cell_type": "code",
      "source": [
        "# Set your parameters\n",
        "criterion = nn.BCEWithLogitsLoss()\n",
        "n_epochs = 200\n",
        "z_samples_noise_vector = 64\n",
        "display_step = 500\n",
        "batch_size = 128\n",
        "lr = 0.00001\n",
        "\n",
        "# Load MNIST dataset as tensors\n",
        "dataloader = DataLoader(\n",
        "    MNIST('.', download=True, transform=transforms.ToTensor()),\n",
        "    batch_size=batch_size,\n",
        "    shuffle=True)\n",
        "\n",
        "### DO NOT EDIT ###\n",
        "device = 'cpu'"
      ],
      "metadata": {
        "colab": {
          "base_uri": "https://localhost:8080/"
        },
        "id": "npt0wAkxXW4V",
        "outputId": "8ceb5f63-15d7-484d-8b81-1a055945432b"
      },
      "execution_count": 15,
      "outputs": [
        {
          "output_type": "stream",
          "name": "stdout",
          "text": [
            "Downloading http://yann.lecun.com/exdb/mnist/train-images-idx3-ubyte.gz\n",
            "Failed to download (trying next):\n",
            "<urlopen error [Errno 111] Connection refused>\n",
            "\n",
            "Downloading https://ossci-datasets.s3.amazonaws.com/mnist/train-images-idx3-ubyte.gz\n",
            "Downloading https://ossci-datasets.s3.amazonaws.com/mnist/train-images-idx3-ubyte.gz to ./MNIST/raw/train-images-idx3-ubyte.gz\n"
          ]
        },
        {
          "output_type": "stream",
          "name": "stderr",
          "text": [
            "100%|██████████| 9.91M/9.91M [00:00<00:00, 16.9MB/s]\n"
          ]
        },
        {
          "output_type": "stream",
          "name": "stdout",
          "text": [
            "Extracting ./MNIST/raw/train-images-idx3-ubyte.gz to ./MNIST/raw\n",
            "\n",
            "Downloading http://yann.lecun.com/exdb/mnist/train-labels-idx1-ubyte.gz\n",
            "Failed to download (trying next):\n",
            "<urlopen error [Errno 111] Connection refused>\n",
            "\n",
            "Downloading https://ossci-datasets.s3.amazonaws.com/mnist/train-labels-idx1-ubyte.gz\n",
            "Downloading https://ossci-datasets.s3.amazonaws.com/mnist/train-labels-idx1-ubyte.gz to ./MNIST/raw/train-labels-idx1-ubyte.gz\n"
          ]
        },
        {
          "output_type": "stream",
          "name": "stderr",
          "text": [
            "100%|██████████| 28.9k/28.9k [00:00<00:00, 505kB/s]\n"
          ]
        },
        {
          "output_type": "stream",
          "name": "stdout",
          "text": [
            "Extracting ./MNIST/raw/train-labels-idx1-ubyte.gz to ./MNIST/raw\n",
            "\n",
            "Downloading http://yann.lecun.com/exdb/mnist/t10k-images-idx3-ubyte.gz\n",
            "Failed to download (trying next):\n",
            "<urlopen error [Errno 111] Connection refused>\n",
            "\n",
            "Downloading https://ossci-datasets.s3.amazonaws.com/mnist/t10k-images-idx3-ubyte.gz\n",
            "Downloading https://ossci-datasets.s3.amazonaws.com/mnist/t10k-images-idx3-ubyte.gz to ./MNIST/raw/t10k-images-idx3-ubyte.gz\n"
          ]
        },
        {
          "output_type": "stream",
          "name": "stderr",
          "text": [
            "100%|██████████| 1.65M/1.65M [00:00<00:00, 4.53MB/s]\n"
          ]
        },
        {
          "output_type": "stream",
          "name": "stdout",
          "text": [
            "Extracting ./MNIST/raw/t10k-images-idx3-ubyte.gz to ./MNIST/raw\n",
            "\n",
            "Downloading http://yann.lecun.com/exdb/mnist/t10k-labels-idx1-ubyte.gz\n",
            "Failed to download (trying next):\n",
            "<urlopen error [Errno 111] Connection refused>\n",
            "\n",
            "Downloading https://ossci-datasets.s3.amazonaws.com/mnist/t10k-labels-idx1-ubyte.gz\n",
            "Downloading https://ossci-datasets.s3.amazonaws.com/mnist/t10k-labels-idx1-ubyte.gz to ./MNIST/raw/t10k-labels-idx1-ubyte.gz\n"
          ]
        },
        {
          "output_type": "stream",
          "name": "stderr",
          "text": [
            "100%|██████████| 4.54k/4.54k [00:00<00:00, 2.28MB/s]"
          ]
        },
        {
          "output_type": "stream",
          "name": "stdout",
          "text": [
            "Extracting ./MNIST/raw/t10k-labels-idx1-ubyte.gz to ./MNIST/raw\n",
            "\n"
          ]
        },
        {
          "output_type": "stream",
          "name": "stderr",
          "text": [
            "\n"
          ]
        }
      ]
    },
    {
      "cell_type": "code",
      "source": [
        "gen=Generator(z_samples_noise_vector).to(device)\n",
        "gen_opt=torch.optim.Adam(gen.parameters(),lr=lr)\n",
        "disc=Discriminator().to(device)\n",
        "disc_opt=torch.optim.Adam(disc.parameters(),lr=lr)\n"
      ],
      "metadata": {
        "id": "sZmzdTqxXewR"
      },
      "execution_count": 16,
      "outputs": []
    },
    {
      "cell_type": "code",
      "source": [],
      "metadata": {
        "id": "l0rCCMlcXg9G"
      },
      "execution_count": null,
      "outputs": []
    }
  ]
}